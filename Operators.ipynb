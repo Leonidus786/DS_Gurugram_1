{
 "cells": [
  {
   "cell_type": "code",
   "execution_count": 1,
   "id": "4e0e3f82-6b5b-4db0-9a2a-64a9c5b79b83",
   "metadata": {},
   "outputs": [],
   "source": [
    "# variable - it is a container which hold some value/ data type."
   ]
  },
  {
   "cell_type": "code",
   "execution_count": 2,
   "id": "ed1e1270-582c-4a98-9de7-f74215a9b73c",
   "metadata": {},
   "outputs": [],
   "source": [
    "x = 2"
   ]
  },
  {
   "cell_type": "code",
   "execution_count": 3,
   "id": "42bbf269-1f4d-44b9-8328-fb8351031af0",
   "metadata": {},
   "outputs": [
    {
     "name": "stdout",
     "output_type": "stream",
     "text": [
      "140716392629064\n"
     ]
    }
   ],
   "source": [
    "print(id(x))"
   ]
  },
  {
   "cell_type": "code",
   "execution_count": 4,
   "id": "08d97ba3-d801-45a9-86ec-7fd9908e9b0f",
   "metadata": {},
   "outputs": [],
   "source": [
    "import keyword"
   ]
  },
  {
   "cell_type": "code",
   "execution_count": 5,
   "id": "ed231b3f-bfae-438b-a03b-a8d5ae804e9d",
   "metadata": {},
   "outputs": [
    {
     "name": "stdout",
     "output_type": "stream",
     "text": [
      "['False', 'None', 'True', 'and', 'as', 'assert', 'async', 'await', 'break', 'class', 'continue', 'def', 'del', 'elif', 'else', 'except', 'finally', 'for', 'from', 'global', 'if', 'import', 'in', 'is', 'lambda', 'nonlocal', 'not', 'or', 'pass', 'raise', 'return', 'try', 'while', 'with', 'yield']\n"
     ]
    }
   ],
   "source": [
    "print(keyword.kwlist)"
   ]
  },
  {
   "cell_type": "code",
   "execution_count": 9,
   "id": "16af25e8-2fb3-422c-93e2-4131c068c9f9",
   "metadata": {},
   "outputs": [],
   "source": [
    "a,b,c = 12,13,15"
   ]
  },
  {
   "cell_type": "code",
   "execution_count": 10,
   "id": "dc38c64a-c6f3-48d2-b266-0f812e6f747a",
   "metadata": {},
   "outputs": [
    {
     "data": {
      "text/plain": [
       "12"
      ]
     },
     "execution_count": 10,
     "metadata": {},
     "output_type": "execute_result"
    }
   ],
   "source": [
    "a"
   ]
  },
  {
   "cell_type": "code",
   "execution_count": 11,
   "id": "dd617a54-c1c0-4d5f-9dfd-4b7c8bb01a9c",
   "metadata": {},
   "outputs": [
    {
     "data": {
      "text/plain": [
       "13"
      ]
     },
     "execution_count": 11,
     "metadata": {},
     "output_type": "execute_result"
    }
   ],
   "source": [
    "b"
   ]
  },
  {
   "cell_type": "code",
   "execution_count": 12,
   "id": "0e21ff1f-174d-47dc-a7ea-65fa5a9e8e31",
   "metadata": {},
   "outputs": [
    {
     "data": {
      "text/plain": [
       "15"
      ]
     },
     "execution_count": 12,
     "metadata": {},
     "output_type": "execute_result"
    }
   ],
   "source": [
    "c"
   ]
  },
  {
   "cell_type": "code",
   "execution_count": 14,
   "id": "b4cb9248-7984-47cb-a7bf-144589b6b38e",
   "metadata": {},
   "outputs": [
    {
     "name": "stdout",
     "output_type": "stream",
     "text": [
      "11\n"
     ]
    }
   ],
   "source": [
    "print(8+3)"
   ]
  },
  {
   "cell_type": "code",
   "execution_count": 15,
   "id": "a153ee13-309c-4760-a22e-4662daacf3fc",
   "metadata": {},
   "outputs": [
    {
     "data": {
      "text/plain": [
       "11"
      ]
     },
     "execution_count": 15,
     "metadata": {},
     "output_type": "execute_result"
    }
   ],
   "source": [
    "8+3"
   ]
  },
  {
   "cell_type": "code",
   "execution_count": 16,
   "id": "5c936422-fd7a-41b3-8d39-550ed0cbade1",
   "metadata": {},
   "outputs": [],
   "source": [
    "z = 8 +3"
   ]
  },
  {
   "cell_type": "code",
   "execution_count": 17,
   "id": "af705ab0-dcb3-459c-b5e3-ff8b9113f9bd",
   "metadata": {},
   "outputs": [
    {
     "data": {
      "text/plain": [
       "11"
      ]
     },
     "execution_count": 17,
     "metadata": {},
     "output_type": "execute_result"
    }
   ],
   "source": [
    "z"
   ]
  },
  {
   "cell_type": "code",
   "execution_count": 18,
   "id": "21a2e6cb-d3ad-4e6e-a157-e5810723c545",
   "metadata": {},
   "outputs": [
    {
     "data": {
      "text/plain": [
       "11"
      ]
     },
     "execution_count": 18,
     "metadata": {},
     "output_type": "execute_result"
    }
   ],
   "source": [
    "z"
   ]
  },
  {
   "cell_type": "code",
   "execution_count": 19,
   "id": "aba0c51a-bf48-48b0-ba5d-63584e420ce5",
   "metadata": {},
   "outputs": [
    {
     "name": "stdout",
     "output_type": "stream",
     "text": [
      "<class 'int'>\n"
     ]
    }
   ],
   "source": [
    "# Numeric\n",
    "\n",
    "# Integers -- Whole nos. and negative of counting nos.\n",
    "\n",
    "a = 3\n",
    "print(type(a))"
   ]
  },
  {
   "cell_type": "code",
   "execution_count": 20,
   "id": "7e6b14ce-29a7-4843-a890-fcac32e7b485",
   "metadata": {},
   "outputs": [
    {
     "name": "stdout",
     "output_type": "stream",
     "text": [
      "<class 'float'>\n"
     ]
    }
   ],
   "source": [
    "# Floating - point nos. -- decimal wale\n",
    "\n",
    "b = 12.4\n",
    "print(type(b))"
   ]
  },
  {
   "cell_type": "code",
   "execution_count": 21,
   "id": "145a3e76-2f24-4db0-98f8-4bfccb357620",
   "metadata": {},
   "outputs": [
    {
     "name": "stdout",
     "output_type": "stream",
     "text": [
      "<class 'complex'>\n"
     ]
    }
   ],
   "source": [
    "# Complex :- Real + Imaginary\n",
    "\n",
    "c = 2 + 0j\n",
    "print(type(c))"
   ]
  },
  {
   "cell_type": "code",
   "execution_count": 23,
   "id": "80521fbc-fd8e-45d9-9b8d-db7711628375",
   "metadata": {},
   "outputs": [
    {
     "name": "stdout",
     "output_type": "stream",
     "text": [
      "<class 'str'>\n",
      "<class 'str'>\n"
     ]
    }
   ],
   "source": [
    "# String -- > Sequence of characters.\n",
    "\n",
    "d = \"Dog\"\n",
    "print(type(d))\n",
    "\n",
    "e = 'elephant'\n",
    "print(type(e))"
   ]
  },
  {
   "cell_type": "code",
   "execution_count": 25,
   "id": "75fcf882-35bb-4189-9fc4-1350a850a110",
   "metadata": {},
   "outputs": [
    {
     "name": "stdout",
     "output_type": "stream",
     "text": [
      "<class 'list'>\n"
     ]
    }
   ],
   "source": [
    "# List\n",
    "f = [1, 9.4, 7+2j, True, False, \"Amit\"]\n",
    "print(type(f))"
   ]
  },
  {
   "cell_type": "code",
   "execution_count": 27,
   "id": "c29afd10-ca31-4fca-b360-e74a5c1a931e",
   "metadata": {},
   "outputs": [
    {
     "name": "stdout",
     "output_type": "stream",
     "text": [
      "<class 'tuple'>\n"
     ]
    }
   ],
   "source": [
    "# Tuples\n",
    "g = (1, 9.4, 7+2j, True, False, \"Amit\")\n",
    "print(type(g))"
   ]
  },
  {
   "cell_type": "code",
   "execution_count": 28,
   "id": "bd0ee11a-6aba-45f8-b19a-c09b38ad2330",
   "metadata": {},
   "outputs": [
    {
     "name": "stdout",
     "output_type": "stream",
     "text": [
      "<class 'set'>\n"
     ]
    }
   ],
   "source": [
    "# set\n",
    "h = {1, 9.4, 7+2j, True, False, \"Amit\"}\n",
    "print(type(h))"
   ]
  },
  {
   "cell_type": "code",
   "execution_count": 30,
   "id": "2d53ec20-f215-4f4c-902b-36e301f4bda9",
   "metadata": {},
   "outputs": [
    {
     "name": "stdout",
     "output_type": "stream",
     "text": [
      "<class 'dict'>\n"
     ]
    }
   ],
   "source": [
    "# dictiontary\n",
    "i = {\"Name\": 'Amit', \"Phone\": 7250652389, 'key':'value'}\n",
    "print(type(i))"
   ]
  },
  {
   "cell_type": "code",
   "execution_count": 31,
   "id": "1f8909ae-0e54-4829-9769-9fbe939481b3",
   "metadata": {},
   "outputs": [
    {
     "name": "stdout",
     "output_type": "stream",
     "text": [
      "<class 'bool'>\n",
      "<class 'bool'>\n"
     ]
    }
   ],
   "source": [
    "# Boolean --> bool \n",
    "\n",
    "j = True\n",
    "k = False\n",
    "\n",
    "print(type(j))\n",
    "print(type(k))"
   ]
  }
 ],
 "metadata": {
  "kernelspec": {
   "display_name": "Python 3 (ipykernel)",
   "language": "python",
   "name": "python3"
  },
  "language_info": {
   "codemirror_mode": {
    "name": "ipython",
    "version": 3
   },
   "file_extension": ".py",
   "mimetype": "text/x-python",
   "name": "python",
   "nbconvert_exporter": "python",
   "pygments_lexer": "ipython3",
   "version": "3.11.7"
  }
 },
 "nbformat": 4,
 "nbformat_minor": 5
}
