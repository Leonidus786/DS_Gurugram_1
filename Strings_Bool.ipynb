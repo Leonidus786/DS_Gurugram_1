{
 "cells": [
  {
   "cell_type": "code",
   "execution_count": 1,
   "id": "aea42455-1605-4ee8-a3cd-04237a16c44c",
   "metadata": {},
   "outputs": [],
   "source": [
    "a = \"Hello\""
   ]
  },
  {
   "cell_type": "code",
   "execution_count": 2,
   "id": "99329e91-4a1b-4833-ba3c-d5f793c1fe92",
   "metadata": {},
   "outputs": [
    {
     "data": {
      "text/plain": [
       "str"
      ]
     },
     "execution_count": 2,
     "metadata": {},
     "output_type": "execute_result"
    }
   ],
   "source": [
    "type(a)"
   ]
  },
  {
   "cell_type": "code",
   "execution_count": 4,
   "id": "0078bc96-4a06-4273-9b6e-51e6252fa8c7",
   "metadata": {},
   "outputs": [],
   "source": [
    "Zen_Python = '''The Zen of Python, by Tim Peters\n",
    "\n",
    "Beautiful is better than ugly.\n",
    "Explicit is better than implicit.\n",
    "Simple is better than complex.\n",
    "Complex is better than complicated.\n",
    "Flat is better than nested.\n",
    "Sparse is better than dense.\n",
    "Readability counts.\n",
    "Special cases aren't special enough to break the rules.\n",
    "Although practicality beats purity.\n",
    "Errors should never pass silently.\n",
    "Unless explicitly silenced.\n",
    "In the face of ambiguity, refuse the temptation to guess.\n",
    "There should be one-- and preferably only one --obvious way to do it.\n",
    "Although that way may not be obvious at first unless you're Dutch.\n",
    "Now is better than never.\n",
    "Although never is often better than *right* now.\n",
    "If the implementation is hard to explain, it's a bad idea.\n",
    "If the implementation is easy to explain, it may be a good idea.\n",
    "Namespaces are one honking great idea -- let's do more of those!'''"
   ]
  },
  {
   "cell_type": "code",
   "execution_count": 6,
   "id": "24d4dfe7-9bd7-4e39-bf62-9a2034b9f17f",
   "metadata": {},
   "outputs": [
    {
     "name": "stdout",
     "output_type": "stream",
     "text": [
      "The Zen of Python, by Tim Peters\n",
      "\n",
      "Beautiful is better than ugly.\n",
      "Explicit is better than implicit.\n",
      "Simple is better than complex.\n",
      "Complex is better than complicated.\n",
      "Flat is better than nested.\n",
      "Sparse is better than dense.\n",
      "Readability counts.\n",
      "Special cases aren't special enough to break the rules.\n",
      "Although practicality beats purity.\n",
      "Errors should never pass silently.\n",
      "Unless explicitly silenced.\n",
      "In the face of ambiguity, refuse the temptation to guess.\n",
      "There should be one-- and preferably only one --obvious way to do it.\n",
      "Although that way may not be obvious at first unless you're Dutch.\n",
      "Now is better than never.\n",
      "Although never is often better than *right* now.\n",
      "If the implementation is hard to explain, it's a bad idea.\n",
      "If the implementation is easy to explain, it may be a good idea.\n",
      "Namespaces are one honking great idea -- let's do more of those!\n"
     ]
    }
   ],
   "source": [
    "print(Zen_Python)"
   ]
  },
  {
   "cell_type": "code",
   "execution_count": 7,
   "id": "79abff36-1b25-4311-84bb-5e034c922d6e",
   "metadata": {},
   "outputs": [
    {
     "data": {
      "text/plain": [
       "'Hello'"
      ]
     },
     "execution_count": 7,
     "metadata": {},
     "output_type": "execute_result"
    }
   ],
   "source": [
    "a"
   ]
  },
  {
   "cell_type": "code",
   "execution_count": 9,
   "id": "beb9c25c-13ed-4b5d-be7e-ac3b0b021da1",
   "metadata": {},
   "outputs": [
    {
     "name": "stdout",
     "output_type": "stream",
     "text": [
      "5\n"
     ]
    }
   ],
   "source": [
    "print(len(a))"
   ]
  },
  {
   "cell_type": "code",
   "execution_count": 10,
   "id": "a2570447-c84b-48b0-a9f8-7aa318fc48ac",
   "metadata": {},
   "outputs": [
    {
     "name": "stdout",
     "output_type": "stream",
     "text": [
      "H\n"
     ]
    }
   ],
   "source": [
    "# positive indexing ----> Left to right\n",
    "print(a[0])"
   ]
  },
  {
   "cell_type": "code",
   "execution_count": 11,
   "id": "96b826be-6040-4957-aa40-7903e4b81eba",
   "metadata": {},
   "outputs": [
    {
     "name": "stdout",
     "output_type": "stream",
     "text": [
      "H\n"
     ]
    }
   ],
   "source": [
    "# Negative indexing ----> Right to left\n",
    "print(a[-5])"
   ]
  },
  {
   "cell_type": "code",
   "execution_count": 12,
   "id": "59e928e2-19fd-4635-a73d-ab3ad3856680",
   "metadata": {},
   "outputs": [
    {
     "name": "stdout",
     "output_type": "stream",
     "text": [
      "H\n",
      "i\n",
      "m\n",
      "a\n",
      "n\n",
      "s\n",
      "h\n",
      "u\n"
     ]
    }
   ],
   "source": [
    "# loop --- iterartion -- Repeating things\n",
    "\n",
    "for i in \"Himanshu\":\n",
    "    print(i)"
   ]
  },
  {
   "cell_type": "code",
   "execution_count": 13,
   "id": "815987e4-dc2c-48c4-a67d-6d501e34b757",
   "metadata": {},
   "outputs": [
    {
     "name": "stdout",
     "output_type": "stream",
     "text": [
      "H\n",
      "i\n",
      "m\n",
      "a\n",
      "n\n",
      "s\n",
      "h\n",
      "u\n"
     ]
    }
   ],
   "source": [
    "b = \"Himanshu\"\n",
    "\n",
    "for a in b:\n",
    "    print(a)"
   ]
  },
  {
   "cell_type": "code",
   "execution_count": 14,
   "id": "0cf00cd3-a6c3-4047-83f5-7883058495cf",
   "metadata": {},
   "outputs": [
    {
     "name": "stdout",
     "output_type": "stream",
     "text": [
      "True\n"
     ]
    }
   ],
   "source": [
    "txt = \"The best things in life are free!\"\n",
    "print(\"free\" in txt)"
   ]
  },
  {
   "cell_type": "code",
   "execution_count": 16,
   "id": "d40209e1-58d3-4a15-b89c-3619d2e07088",
   "metadata": {},
   "outputs": [
    {
     "data": {
      "text/plain": [
       "'Himanshu'"
      ]
     },
     "execution_count": 16,
     "metadata": {},
     "output_type": "execute_result"
    }
   ],
   "source": [
    "b"
   ]
  },
  {
   "cell_type": "code",
   "execution_count": 17,
   "id": "75756b41-a322-452b-bfdc-a385adbb758d",
   "metadata": {},
   "outputs": [
    {
     "data": {
      "text/plain": [
       "8"
      ]
     },
     "execution_count": 17,
     "metadata": {},
     "output_type": "execute_result"
    }
   ],
   "source": [
    "len(b)"
   ]
  },
  {
   "cell_type": "code",
   "execution_count": 19,
   "id": "52b07b4b-c7f8-41b3-8fa7-5648417085d9",
   "metadata": {},
   "outputs": [
    {
     "name": "stdout",
     "output_type": "stream",
     "text": [
      "anshu\n"
     ]
    }
   ],
   "source": [
    "# Slicing a string--> to cut a part of string\n",
    "# 1. [Start:End]\n",
    "# Start -- wali chz include hogi & End wali chz exclude hogi.\n",
    "\n",
    "print(b[3:])"
   ]
  },
  {
   "cell_type": "code",
   "execution_count": 20,
   "id": "1efbd4a6-2773-484d-99cb-e054de680bcd",
   "metadata": {},
   "outputs": [
    {
     "name": "stdout",
     "output_type": "stream",
     "text": [
      "Hima\n"
     ]
    }
   ],
   "source": [
    "print(b[:4])"
   ]
  },
  {
   "cell_type": "code",
   "execution_count": 21,
   "id": "af61bc3c-852f-48ff-91c3-8f236e22d7c0",
   "metadata": {},
   "outputs": [
    {
     "name": "stdout",
     "output_type": "stream",
     "text": [
      "anshu\n"
     ]
    }
   ],
   "source": [
    "print(b[3:8])"
   ]
  },
  {
   "cell_type": "code",
   "execution_count": 22,
   "id": "58f27ea6-829c-4dc1-8b83-8c64362c67f3",
   "metadata": {},
   "outputs": [
    {
     "name": "stdout",
     "output_type": "stream",
     "text": [
      "Hima\n"
     ]
    }
   ],
   "source": [
    "print(b[0:4])"
   ]
  },
  {
   "cell_type": "code",
   "execution_count": 23,
   "id": "04f353c3-c82d-42d7-8be4-eeba795b2fba",
   "metadata": {},
   "outputs": [
    {
     "name": "stdout",
     "output_type": "stream",
     "text": [
      "anshu\n"
     ]
    }
   ],
   "source": [
    "print(b[-5:])"
   ]
  },
  {
   "cell_type": "code",
   "execution_count": 24,
   "id": "260e35ff-d426-4dea-aa7e-65848c6d1280",
   "metadata": {},
   "outputs": [
    {
     "data": {
      "text/plain": [
       "'Himanshu'"
      ]
     },
     "execution_count": 24,
     "metadata": {},
     "output_type": "execute_result"
    }
   ],
   "source": [
    "b"
   ]
  },
  {
   "cell_type": "code",
   "execution_count": 25,
   "id": "3694a85c-5bb6-42f0-a258-c5f1e1dce71a",
   "metadata": {},
   "outputs": [
    {
     "name": "stdout",
     "output_type": "stream",
     "text": [
      "himanshu\n"
     ]
    }
   ],
   "source": [
    "print(b.lower())"
   ]
  },
  {
   "cell_type": "code",
   "execution_count": 26,
   "id": "b2ef7085-bd9e-4835-9c45-7f3988429162",
   "metadata": {},
   "outputs": [
    {
     "name": "stdout",
     "output_type": "stream",
     "text": [
      "HIMANSHU\n"
     ]
    }
   ],
   "source": [
    "print(b.upper())"
   ]
  },
  {
   "cell_type": "code",
   "execution_count": 27,
   "id": "edbc63e5-16a0-4f8f-9f64-db6d11f5e634",
   "metadata": {},
   "outputs": [
    {
     "name": "stdout",
     "output_type": "stream",
     "text": [
      "Hello, World!\n"
     ]
    }
   ],
   "source": [
    "# Removing extra Whitespaces \n",
    "\n",
    "a = \" Hello, World! \"\n",
    "print(a.strip()) # returns \"Hello, World!\""
   ]
  },
  {
   "cell_type": "code",
   "execution_count": 28,
   "id": "5285b3f3-1fac-4072-a8aa-4f5ba02a128e",
   "metadata": {},
   "outputs": [],
   "source": [
    "b = \"           Himanshu           \""
   ]
  },
  {
   "cell_type": "code",
   "execution_count": 29,
   "id": "73899e68-47d8-49e4-bc78-006bfae5df5a",
   "metadata": {},
   "outputs": [
    {
     "data": {
      "text/plain": [
       "'           Himanshu           '"
      ]
     },
     "execution_count": 29,
     "metadata": {},
     "output_type": "execute_result"
    }
   ],
   "source": [
    "b"
   ]
  },
  {
   "cell_type": "code",
   "execution_count": 32,
   "id": "2d2c9c34-e26a-488b-be5f-dc1516105fda",
   "metadata": {},
   "outputs": [],
   "source": [
    "b = b.strip()"
   ]
  },
  {
   "cell_type": "code",
   "execution_count": 33,
   "id": "f20b0832-83d0-4b33-bf66-3c774a2d89b9",
   "metadata": {},
   "outputs": [
    {
     "data": {
      "text/plain": [
       "'HiHanshu'"
      ]
     },
     "execution_count": 33,
     "metadata": {},
     "output_type": "execute_result"
    }
   ],
   "source": [
    "b.replace('m','H')"
   ]
  },
  {
   "cell_type": "code",
   "execution_count": 51,
   "id": "7b07eb75-e34c-4227-be2c-159294784874",
   "metadata": {},
   "outputs": [],
   "source": [
    "c = \"abhishek\""
   ]
  },
  {
   "cell_type": "code",
   "execution_count": 54,
   "id": "d98d019a-7059-4816-a8f9-1c59bdb7e077",
   "metadata": {},
   "outputs": [
    {
     "data": {
      "text/plain": [
       "'abbisbek'"
      ]
     },
     "execution_count": 54,
     "metadata": {},
     "output_type": "execute_result"
    }
   ],
   "source": [
    "c.replace(\"h\",'b',2)\n"
   ]
  },
  {
   "cell_type": "code",
   "execution_count": 55,
   "id": "220f9f06-4632-4591-8b2f-b0ed57b814db",
   "metadata": {},
   "outputs": [
    {
     "name": "stdout",
     "output_type": "stream",
     "text": [
      "False\n"
     ]
    }
   ],
   "source": [
    "# Boolean\n",
    "print (1 == 2)"
   ]
  },
  {
   "cell_type": "code",
   "execution_count": 56,
   "id": "afc0ad4d-5c21-4749-9866-4342bac4365e",
   "metadata": {},
   "outputs": [
    {
     "data": {
      "text/plain": [
       "True"
      ]
     },
     "execution_count": 56,
     "metadata": {},
     "output_type": "execute_result"
    }
   ],
   "source": [
    "2 != 3"
   ]
  },
  {
   "cell_type": "code",
   "execution_count": 57,
   "id": "aafc2994-e91b-4fb2-82db-6483b58cecb3",
   "metadata": {},
   "outputs": [
    {
     "data": {
      "text/plain": [
       "False"
      ]
     },
     "execution_count": 57,
     "metadata": {},
     "output_type": "execute_result"
    }
   ],
   "source": [
    "bool(False)\n",
    "bool(None)\n",
    "bool(0)\n",
    "bool(\"\")\n",
    "bool(())\n",
    "bool([])\n",
    "bool({})"
   ]
  },
  {
   "cell_type": "code",
   "execution_count": null,
   "id": "133c3e9f-c19f-4005-8ced-cc619c31faa3",
   "metadata": {},
   "outputs": [],
   "source": []
  }
 ],
 "metadata": {
  "kernelspec": {
   "display_name": "Python 3 (ipykernel)",
   "language": "python",
   "name": "python3"
  },
  "language_info": {
   "codemirror_mode": {
    "name": "ipython",
    "version": 3
   },
   "file_extension": ".py",
   "mimetype": "text/x-python",
   "name": "python",
   "nbconvert_exporter": "python",
   "pygments_lexer": "ipython3",
   "version": "3.11.7"
  }
 },
 "nbformat": 4,
 "nbformat_minor": 5
}
