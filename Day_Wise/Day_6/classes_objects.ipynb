{
 "cells": [
  {
   "cell_type": "markdown",
   "id": "4de311ab-b622-48e5-b7bc-7879bb96e5d2",
   "metadata": {},
   "source": [
    "# meaning of oops\n",
    "\n",
    "##  The main aim of OOP is to bind together the data and the functions that operate on them so that no other part of the code can access this data except that function."
   ]
  },
  {
   "cell_type": "code",
   "execution_count": 6,
   "id": "5b57be15-848f-4ec8-9cbb-d30e6d38372d",
   "metadata": {},
   "outputs": [],
   "source": [
    "class Class_Name:\n",
    "    bhaukaal = \"ye mere class ki property h\"\n",
    "    number = 5\n",
    "    value = True"
   ]
  },
  {
   "cell_type": "code",
   "execution_count": 7,
   "id": "64032d28-917e-46a8-9ab9-3a05cb73ab58",
   "metadata": {},
   "outputs": [
    {
     "name": "stdout",
     "output_type": "stream",
     "text": [
      "<class '__main__.Class_Name'>\n"
     ]
    }
   ],
   "source": [
    "print(Class_Name)"
   ]
  },
  {
   "cell_type": "code",
   "execution_count": 8,
   "id": "d5609e6a-02a3-438f-a354-22cc65f4320a",
   "metadata": {},
   "outputs": [
    {
     "data": {
      "text/plain": [
       "__main__.Class_Name"
      ]
     },
     "execution_count": 8,
     "metadata": {},
     "output_type": "execute_result"
    }
   ],
   "source": [
    "Class_Name"
   ]
  },
  {
   "cell_type": "code",
   "execution_count": 9,
   "id": "8cca4006-41a6-483e-923b-7cd3b45921a3",
   "metadata": {},
   "outputs": [],
   "source": [
    "abc = Class_Name()"
   ]
  },
  {
   "cell_type": "code",
   "execution_count": 10,
   "id": "97863c6f-dc21-4805-9b42-8a68d5a1b5d2",
   "metadata": {},
   "outputs": [
    {
     "data": {
      "text/plain": [
       "'ye mere class ki property h'"
      ]
     },
     "execution_count": 10,
     "metadata": {},
     "output_type": "execute_result"
    }
   ],
   "source": [
    "abc.bhaukaal"
   ]
  },
  {
   "cell_type": "code",
   "execution_count": 12,
   "id": "b8661682-a75b-4444-adcb-19639e0094e6",
   "metadata": {},
   "outputs": [
    {
     "data": {
      "text/plain": [
       "5"
      ]
     },
     "execution_count": 12,
     "metadata": {},
     "output_type": "execute_result"
    }
   ],
   "source": [
    "abc.number"
   ]
  },
  {
   "cell_type": "code",
   "execution_count": 13,
   "id": "c911efa0-6579-4be3-b47c-9d0bd38c3b22",
   "metadata": {},
   "outputs": [
    {
     "data": {
      "text/plain": [
       "True"
      ]
     },
     "execution_count": 13,
     "metadata": {},
     "output_type": "execute_result"
    }
   ],
   "source": [
    "abc.value"
   ]
  },
  {
   "cell_type": "code",
   "execution_count": 15,
   "id": "0bfad785-0596-449a-8c74-bc3d03a32002",
   "metadata": {},
   "outputs": [],
   "source": [
    "# Creating a class\n",
    "class Person:\n",
    "  def __init__(self, name, age):\n",
    "    self.name = name\n",
    "    self.age = age"
   ]
  },
  {
   "cell_type": "code",
   "execution_count": 16,
   "id": "2e332fe2-a218-40f1-b53a-feac605dd6dd",
   "metadata": {},
   "outputs": [
    {
     "name": "stdout",
     "output_type": "stream",
     "text": [
      "John\n",
      "36\n"
     ]
    }
   ],
   "source": [
    "# creating a object with class Person\n",
    "p1 = Person(\"John\", 36)\n",
    "\n",
    "# Acessing the properties of class which is present inside p1\n",
    "print(p1.name)\n",
    "print(p1.age)"
   ]
  },
  {
   "cell_type": "code",
   "execution_count": 17,
   "id": "ebe13bed-8117-43bc-9460-5fa3c2ffcec7",
   "metadata": {},
   "outputs": [
    {
     "name": "stdout",
     "output_type": "stream",
     "text": [
      "<__main__.Person object at 0x0000028226F954D0>\n"
     ]
    }
   ],
   "source": [
    "class Person:\n",
    "  def __init__(self, name, age):\n",
    "    self.name = name\n",
    "    self.age = age\n",
    "\n",
    "p1 = Person(\"John\", 36)\n",
    "\n",
    "print(p1)"
   ]
  },
  {
   "cell_type": "code",
   "execution_count": 18,
   "id": "6164ad59-9fdf-4024-8e99-af2b56ba0175",
   "metadata": {},
   "outputs": [
    {
     "name": "stdout",
     "output_type": "stream",
     "text": [
      "John(36)\n"
     ]
    }
   ],
   "source": [
    "class Person:\n",
    "  def __init__(self, name, age):\n",
    "    self.name = name\n",
    "    self.age = age\n",
    "\n",
    "  def __str__(self):\n",
    "    return f\"{self.name}({self.age})\"\n",
    "\n",
    "p1 = Person(\"John\", 36)\n",
    "\n",
    "print(p1)"
   ]
  },
  {
   "cell_type": "code",
   "execution_count": 19,
   "id": "9a17d012-9684-454a-b57c-1bd38a293a57",
   "metadata": {},
   "outputs": [],
   "source": [
    "del p1.age"
   ]
  },
  {
   "cell_type": "code",
   "execution_count": 20,
   "id": "581d5d56-822e-4818-9d05-0f42ad5eb063",
   "metadata": {},
   "outputs": [
    {
     "ename": "AttributeError",
     "evalue": "'Person' object has no attribute 'age'",
     "output_type": "error",
     "traceback": [
      "\u001b[1;31m---------------------------------------------------------------------------\u001b[0m",
      "\u001b[1;31mAttributeError\u001b[0m                            Traceback (most recent call last)",
      "Cell \u001b[1;32mIn[20], line 1\u001b[0m\n\u001b[1;32m----> 1\u001b[0m p1\u001b[38;5;241m.\u001b[39mage\n",
      "\u001b[1;31mAttributeError\u001b[0m: 'Person' object has no attribute 'age'"
     ]
    }
   ],
   "source": [
    "p1.age"
   ]
  },
  {
   "cell_type": "code",
   "execution_count": 21,
   "id": "6a3c55e4-1c5a-4788-945a-f04b5703bd04",
   "metadata": {},
   "outputs": [],
   "source": [
    "del p1"
   ]
  },
  {
   "cell_type": "code",
   "execution_count": 22,
   "id": "dcb753d6-2e8d-4768-90af-39dc27cdf936",
   "metadata": {},
   "outputs": [
    {
     "ename": "NameError",
     "evalue": "name 'p1' is not defined",
     "output_type": "error",
     "traceback": [
      "\u001b[1;31m---------------------------------------------------------------------------\u001b[0m",
      "\u001b[1;31mNameError\u001b[0m                                 Traceback (most recent call last)",
      "Cell \u001b[1;32mIn[22], line 1\u001b[0m\n\u001b[1;32m----> 1\u001b[0m p1\n",
      "\u001b[1;31mNameError\u001b[0m: name 'p1' is not defined"
     ]
    }
   ],
   "source": [
    "p1"
   ]
  },
  {
   "cell_type": "code",
   "execution_count": 23,
   "id": "257c4d56-4b29-428d-bc53-26093933bdf2",
   "metadata": {},
   "outputs": [],
   "source": [
    "# Parent or Base class\n",
    "class Person:\n",
    "  def __init__(self, fname, lname):\n",
    "    self.firstname = fname\n",
    "    self.lastname = lname\n",
    "\n",
    "  def printname(self):\n",
    "    print(self.firstname, self.lastname)"
   ]
  },
  {
   "cell_type": "code",
   "execution_count": 24,
   "id": "5453fa98-68ec-46ba-a0b6-87a0435c4c9b",
   "metadata": {},
   "outputs": [],
   "source": [
    "# child or derived class\n",
    "class Student(Person):\n",
    "  pass"
   ]
  },
  {
   "cell_type": "code",
   "execution_count": 27,
   "id": "19e35c38-f921-4422-ada4-7656ef1fbde7",
   "metadata": {},
   "outputs": [
    {
     "name": "stdout",
     "output_type": "stream",
     "text": [
      "Himanshu Olsen\n"
     ]
    }
   ],
   "source": [
    "# creating objects using child class\n",
    "x = Student(\"Himanshu\", \"Olsen\")\n",
    "x.printname()"
   ]
  },
  {
   "cell_type": "code",
   "execution_count": 31,
   "id": "b5f48474-f8de-4de2-b769-2e80d973f55d",
   "metadata": {},
   "outputs": [
    {
     "name": "stdout",
     "output_type": "stream",
     "text": [
      "Mike Olsen\n"
     ]
    }
   ],
   "source": [
    "class Person:\n",
    "  def __init__(self, fname, lname):\n",
    "    self.firstname = fname\n",
    "    self.lastname = lname\n",
    "\n",
    "  def printname(self):\n",
    "    print(self.firstname, self.lastname)\n",
    "\n",
    "class Student(Person):\n",
    "  def __init__(self, fname, lname):\n",
    "    Person.__init__(self, fname, lname)\n",
    "\n",
    "x = Student(\"Mike\", \"Olsen\")\n",
    "x.printname()"
   ]
  },
  {
   "cell_type": "code",
   "execution_count": 32,
   "id": "e6be3514-66aa-4fa1-8114-3e8809fa4fa8",
   "metadata": {},
   "outputs": [
    {
     "name": "stdout",
     "output_type": "stream",
     "text": [
      "Mike Olsen\n"
     ]
    }
   ],
   "source": [
    "class Person:\n",
    "  def __init__(self, fname, lname):\n",
    "    self.firstname = fname\n",
    "    self.lastname = lname\n",
    "\n",
    "  def printname(self):\n",
    "    print(self.firstname, self.lastname)\n",
    "\n",
    "class Student(Person):\n",
    "  def __init__(self, fname, lname):\n",
    "    super().__init__(fname, lname)\n",
    "\n",
    "x = Student(\"Mike\", \"Olsen\")\n",
    "x.printname()"
   ]
  },
  {
   "cell_type": "code",
   "execution_count": 33,
   "id": "6af1fa88-85bf-4b86-909d-e24b14f8cc7e",
   "metadata": {},
   "outputs": [
    {
     "name": "stdout",
     "output_type": "stream",
     "text": [
      "2019\n"
     ]
    }
   ],
   "source": [
    "class Person:\n",
    "  def __init__(self, fname, lname):\n",
    "    self.firstname = fname\n",
    "    self.lastname = lname\n",
    "\n",
    "  def printname(self):\n",
    "    print(self.firstname, self.lastname)\n",
    "\n",
    "class Student(Person):\n",
    "  def __init__(self, fname, lname):\n",
    "    super().__init__(fname, lname)\n",
    "    self.graduationyear = 2019\n",
    "\n",
    "x = Student(\"Mike\", \"Olsen\")\n",
    "print(x.graduationyear)"
   ]
  },
  {
   "cell_type": "code",
   "execution_count": 59,
   "id": "986a38be-02f1-4fd4-8c1e-f1eaf636cc76",
   "metadata": {},
   "outputs": [
    {
     "name": "stdout",
     "output_type": "stream",
     "text": [
      "Mike (Olsen) 2019\n"
     ]
    }
   ],
   "source": [
    "class Person:\n",
    "    def __init__(self, fname, lname):\n",
    "        self.firstname = fname\n",
    "        self.lastname = lname\n",
    "\n",
    "    def printname(self):\n",
    "        print(self.firstname, self.lastname)\n",
    "\n",
    "class Student(Person):\n",
    "    def __init__(self, fname, lname, year):\n",
    "        super().__init__(fname, lname)\n",
    "        self.graduationyear = year\n",
    "\n",
    "    def fck(self):\n",
    "        return f\"{self.firstname} ({self.lastname}) {self.graduationyear}\"\n",
    "\n",
    "x = Student(\"Mike\", \"Olsen\", 2019)\n",
    "print(x.fck())  # This will print: Mike (Olsen) 2019\n"
   ]
  },
  {
   "cell_type": "code",
   "execution_count": 61,
   "id": "9d0de8af-4f88-4556-9484-6f71498e1c73",
   "metadata": {},
   "outputs": [
    {
     "data": {
      "text/plain": [
       "'Mike (Olsen) 2019'"
      ]
     },
     "execution_count": 61,
     "metadata": {},
     "output_type": "execute_result"
    }
   ],
   "source": [
    "x.fck()"
   ]
  },
  {
   "cell_type": "code",
   "execution_count": 54,
   "id": "35ad1087-1247-43a2-bf57-aaa31e85c3ee",
   "metadata": {},
   "outputs": [
    {
     "name": "stdout",
     "output_type": "stream",
     "text": [
      "Welcome Mike Olsen to the class of 2024\n"
     ]
    }
   ],
   "source": [
    "class Person:\n",
    "  def __init__(self, fname, lname):\n",
    "    self.firstname = fname\n",
    "    self.lastname = lname\n",
    "\n",
    "  def printname(self):\n",
    "    print(self.firstname, self.lastname)\n",
    "\n",
    "class Student(Person):\n",
    "  def __init__(self, fname, lname, year):\n",
    "    super().__init__(fname, lname)\n",
    "    self.graduationyear = year\n",
    "\n",
    "  def welcome(self):\n",
    "    print(\"Welcome\", self.firstname, self.lastname, \"to the class of\", self.graduationyear)\n",
    "\n",
    "x = Student(\"Mike\", \"Olsen\", 2024)\n",
    "x.welcome()"
   ]
  },
  {
   "cell_type": "code",
   "execution_count": null,
   "id": "d010e5b3-a53d-4caf-9779-dcfc1eaffa49",
   "metadata": {},
   "outputs": [],
   "source": []
  }
 ],
 "metadata": {
  "kernelspec": {
   "display_name": "Python 3 (ipykernel)",
   "language": "python",
   "name": "python3"
  },
  "language_info": {
   "codemirror_mode": {
    "name": "ipython",
    "version": 3
   },
   "file_extension": ".py",
   "mimetype": "text/x-python",
   "name": "python",
   "nbconvert_exporter": "python",
   "pygments_lexer": "ipython3",
   "version": "3.11.7"
  }
 },
 "nbformat": 4,
 "nbformat_minor": 5
}
