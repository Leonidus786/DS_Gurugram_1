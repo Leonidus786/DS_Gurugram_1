{
 "cells": [
  {
   "cell_type": "code",
   "execution_count": null,
   "id": "502a5928-dbf0-4132-b004-d197153ea965",
   "metadata": {},
   "outputs": [],
   "source": [
    "#1. Create a greeting for your program.\n",
    "\n",
    "#2. Ask the user for the city that they grew up in.\n",
    "\n",
    "#3. Ask the user for the name of a pet.\n",
    "\n",
    "#4. Combine the name of their city and pet and show them their band name.\n",
    "\n",
    "#5. Make Sure the input cursor shows on a new line."
   ]
  },
  {
   "cell_type": "code",
   "execution_count": 4,
   "id": "60c26bc2-5fa5-4497-8198-d870c855fb7a",
   "metadata": {},
   "outputs": [
    {
     "name": "stdout",
     "output_type": "stream",
     "text": [
      "Welcome to the band name generator.\n"
     ]
    },
    {
     "name": "stdin",
     "output_type": "stream",
     "text": [
      "Which city did you grow up in?\n",
      " Siwan\n",
      "What is the name of a pet?\n",
      " Jack\n"
     ]
    },
    {
     "name": "stdout",
     "output_type": "stream",
     "text": [
      "Your band name could be Siwan Jack\n"
     ]
    }
   ],
   "source": [
    "print(\"Welcome to the band name generator.\")\n",
    "city = input(\"Which city did you grow up in?\\n\")\n",
    "pet = input(\"What is the name of a pet?\\n\")\n",
    "print(\"Your band name could be \"  + city + \" \" + pet)"
   ]
  }
 ],
 "metadata": {
  "kernelspec": {
   "display_name": "Python 3 (ipykernel)",
   "language": "python",
   "name": "python3"
  },
  "language_info": {
   "codemirror_mode": {
    "name": "ipython",
    "version": 3
   },
   "file_extension": ".py",
   "mimetype": "text/x-python",
   "name": "python",
   "nbconvert_exporter": "python",
   "pygments_lexer": "ipython3",
   "version": "3.11.7"
  }
 },
 "nbformat": 4,
 "nbformat_minor": 5
}
