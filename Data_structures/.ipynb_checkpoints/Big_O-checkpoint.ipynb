{
 "cells": [
  {
   "cell_type": "code",
   "execution_count": 1,
   "id": "c427a30a-1d65-4bf4-9790-850a1b1bd497",
   "metadata": {},
   "outputs": [],
   "source": [
    "Stock_price = [298, 305, 320, 301, 292]"
   ]
  },
  {
   "cell_type": "code",
   "execution_count": 2,
   "id": "a7684893-d923-4bc7-86b6-aad98ae14e66",
   "metadata": {},
   "outputs": [
    {
     "data": {
      "text/plain": [
       "320"
      ]
     },
     "execution_count": 2,
     "metadata": {},
     "output_type": "execute_result"
    }
   ],
   "source": [
    "Stock_price[2]"
   ]
  },
  {
   "cell_type": "code",
   "execution_count": 6,
   "id": "c1663aff-e743-4bd7-aec5-d99c2d264a32",
   "metadata": {},
   "outputs": [],
   "source": [
    "def get_squared_numbers(numbers):\n",
    "    squared_numbers = []\n",
    "    for n in numbers:\n",
    "        squared_numbers.append(n*n)\n",
    "    return squared_numbers"
   ]
  },
  {
   "cell_type": "code",
   "execution_count": 4,
   "id": "d0cf15d7-23c5-434c-b80f-8c98bd0010ec",
   "metadata": {},
   "outputs": [],
   "source": [
    "numbers = [2, 5, 8, 9]"
   ]
  },
  {
   "cell_type": "code",
   "execution_count": 7,
   "id": "3a5cef29-4d65-41d2-bf6e-46ec14d37c12",
   "metadata": {},
   "outputs": [
    {
     "data": {
      "text/plain": [
       "[4, 25, 64, 81]"
      ]
     },
     "execution_count": 7,
     "metadata": {},
     "output_type": "execute_result"
    }
   ],
   "source": [
    "get_squared_numbers(numbers)"
   ]
  },
  {
   "cell_type": "code",
   "execution_count": null,
   "id": "ba1f7375-75e1-42a3-a979-942e53c90361",
   "metadata": {},
   "outputs": [],
   "source": []
  }
 ],
 "metadata": {
  "kernelspec": {
   "display_name": "Python 3 (ipykernel)",
   "language": "python",
   "name": "python3"
  },
  "language_info": {
   "codemirror_mode": {
    "name": "ipython",
    "version": 3
   },
   "file_extension": ".py",
   "mimetype": "text/x-python",
   "name": "python",
   "nbconvert_exporter": "python",
   "pygments_lexer": "ipython3",
   "version": "3.11.7"
  }
 },
 "nbformat": 4,
 "nbformat_minor": 5
}
