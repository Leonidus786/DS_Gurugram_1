{
 "cells": [
  {
   "cell_type": "code",
   "execution_count": 1,
   "id": "1d682934-f60b-43fb-9b47-e6abc6f4c1c4",
   "metadata": {},
   "outputs": [],
   "source": [
    "# 011 Task the user to enter a number over 100 and then enter a number under 10\n",
    "# and tell them how many times the smaller number goes into the larger number in\n",
    "# a user-friendly format."
   ]
  },
  {
   "cell_type": "code",
   "execution_count": 2,
   "id": "fe4d872c-b0ab-47e7-a0db-79a675544077",
   "metadata": {},
   "outputs": [
    {
     "name": "stdin",
     "output_type": "stream",
     "text": [
      "Enter a number over 100:  109\n",
      "Enter a number under 10:  2\n"
     ]
    },
    {
     "name": "stdout",
     "output_type": "stream",
     "text": [
      "2 goes into 109 54 times.\n"
     ]
    }
   ],
   "source": [
    "# Sol.- 11\n",
    "\n",
    "larger = int(input(\"Enter a number over 100: \"))\n",
    "smaller = int(input(\"Enter a number under 10: \"))\n",
    "answer = larger // smaller\n",
    "print(smaller,\"goes into\", larger, answer,\"times.\")"
   ]
  },
  {
   "cell_type": "code",
   "execution_count": 6,
   "id": "6171640c-c726-4b09-9351-1bba3c1a97ca",
   "metadata": {},
   "outputs": [],
   "source": [
    "# 010 There are 2.204 pounds in a kilogram. Ask the user to enter a weight in\n",
    "# kilograms and convert it to pounds."
   ]
  },
  {
   "cell_type": "code",
   "execution_count": 5,
   "id": "0f5b6227-6728-43d7-8776-95c7fc197225",
   "metadata": {},
   "outputs": [
    {
     "name": "stdin",
     "output_type": "stream",
     "text": [
      "Enter the number of kilos:  70\n"
     ]
    },
    {
     "name": "stdout",
     "output_type": "stream",
     "text": [
      "That is 154.28 pounds.\n"
     ]
    }
   ],
   "source": [
    "# Sol. 10 -->\n",
    "kilo = int(input(\"Enter the number of kilos: \"))\n",
    "pound = kilo * 2.204\n",
    "print(\"That is\", pound,\"pounds.\")"
   ]
  },
  {
   "cell_type": "code",
   "execution_count": 7,
   "id": "ac108bba-be2c-4ad6-97ea-cefb810ba19e",
   "metadata": {},
   "outputs": [],
   "source": [
    "# 009 Write a program that will ask for a number of days and then will show how\n",
    "# many hours, minutes and seconds are in that number of days."
   ]
  },
  {
   "cell_type": "code",
   "execution_count": 10,
   "id": "919bd8ae-8cd7-4caa-ade7-42391b19f9e9",
   "metadata": {},
   "outputs": [
    {
     "name": "stdin",
     "output_type": "stream",
     "text": [
      "Enter the number of days:  24\n"
     ]
    },
    {
     "name": "stdout",
     "output_type": "stream",
     "text": [
      "In 24 days there are...\n",
      "576 hours\n",
      "34560 minutes\n",
      "2073600 seconds\n"
     ]
    }
   ],
   "source": [
    "# Sol. - 9 -->\n",
    "days = int(input(\"Enter the number of days: \"))\n",
    "hours = days * 24\n",
    "minutes = hours * 60\n",
    "seconds = minutes * 60\n",
    "print(\"In\", days,\"days there are...\")\n",
    "print(hours, \"hours\")\n",
    "print(minutes, \"minutes\")\n",
    "print(seconds, \"seconds\")  "
   ]
  },
  {
   "cell_type": "code",
   "execution_count": 11,
   "id": "b89d1e13-48a3-4a6b-8c7e-4e4d8576c9db",
   "metadata": {},
   "outputs": [],
   "source": [
    "# 007 Ask the user for their name and their age. Add 1 to their age and display the output\n",
    "# [Name] next birthday you will be [new age]."
   ]
  },
  {
   "cell_type": "code",
   "execution_count": 12,
   "id": "e3bd53ef-9da6-4cf4-aca8-61402f22e1ed",
   "metadata": {},
   "outputs": [
    {
     "name": "stdin",
     "output_type": "stream",
     "text": [
      "What is your name?  Abhishek\n",
      "How old are you?  30\n"
     ]
    },
    {
     "name": "stdout",
     "output_type": "stream",
     "text": [
      "Abhishek next birthday you will be 31\n"
     ]
    }
   ],
   "source": [
    "name = input(\"What is your name? \")\n",
    "age = int(input(\"How old are you? \"))\n",
    "New_Age = age + 1\n",
    "print(name, \"next birthday you will be\", New_Age)"
   ]
  },
  {
   "cell_type": "code",
   "execution_count": 13,
   "id": "09b4d007-0be7-4e1b-bf42-d8f3fb7f5fdd",
   "metadata": {},
   "outputs": [],
   "source": [
    "# 006 Ask how many slices of pizza the user started with and ask how many slices\n",
    "# they have eaten. Work out how many slices they have left and display the answer\n",
    "# in a user-friendly format."
   ]
  },
  {
   "cell_type": "code",
   "execution_count": 14,
   "id": "f72fe38b-5bc7-4705-ae4e-359a04f2fc86",
   "metadata": {},
   "outputs": [
    {
     "name": "stdin",
     "output_type": "stream",
     "text": [
      "Enter the number of slices of pizza you started with:  8\n",
      "How many slices have you eaten?  3\n"
     ]
    },
    {
     "name": "stdout",
     "output_type": "stream",
     "text": [
      "You have 5 slices remaining.\n"
     ]
    }
   ],
   "source": [
    "Start_Num = int(input(\"Enter the number of slices of pizza you started with: \"))\n",
    "End_Num = int(input(\"How many slices have you eaten? \"))\n",
    "Slices_Left = Start_Num - End_Num\n",
    "print(\"You have\", Slices_Left, \"slices remaining.\")"
   ]
  },
  {
   "cell_type": "code",
   "execution_count": 15,
   "id": "b73e42dc-2a05-433e-9310-cbeb2259bbcf",
   "metadata": {},
   "outputs": [],
   "source": [
    "# 003 Write code that will display the joke “What do you call a bear with no teeth?”\n",
    "# and on the next line display the answer “A gummy bear!”\n",
    "# Try to create it using only one line of code."
   ]
  },
  {
   "cell_type": "code",
   "execution_count": 1,
   "id": "7163df34-3233-41e7-a6ab-a3f3a1122cdf",
   "metadata": {},
   "outputs": [
    {
     "name": "stdout",
     "output_type": "stream",
     "text": [
      "What do you call a bear with no teeth?\n",
      "A gummy bear!\n"
     ]
    }
   ],
   "source": [
    "print(\"What do you call a bear with no teeth?\\nA gummy bear!\")"
   ]
  },
  {
   "cell_type": "code",
   "execution_count": 2,
   "id": "967e169e-5840-4f59-a673-750d05b1f898",
   "metadata": {},
   "outputs": [
    {
     "name": "stdout",
     "output_type": "stream",
     "text": [
      "What do you call a bear with no teeth?\n",
      "A gummy bear!\n"
     ]
    }
   ],
   "source": [
    "# 003 Write code that will display the joke “What do you call a bear with no teeth?” and on the next line display the answer “A gummy bear!”\n",
    "print(\"What do you call a bear with no teeth?\\nA gummy bear!\")"
   ]
  },
  {
   "cell_type": "code",
   "execution_count": 5,
   "id": "8db8363b-3bd3-4495-bb5d-f2e88e8e953c",
   "metadata": {},
   "outputs": [
    {
     "name": "stdin",
     "output_type": "stream",
     "text": [
      "Enter the first number:  45\n",
      "Enter the second number:  48\n"
     ]
    },
    {
     "name": "stdout",
     "output_type": "stream",
     "text": [
      "The total is  93.0\n"
     ]
    }
   ],
   "source": [
    "# 004 Ask the user to enter two numbers. Add them together and display the answer\n",
    "num1 = float(input(\"Enter the first number: \"))\n",
    "num2 = float(input(\"Enter the second number: \"))\n",
    "total = num1 + num2\n",
    "print(\"The total is \", total)"
   ]
  },
  {
   "cell_type": "code",
   "execution_count": 6,
   "id": "fd30ad0f-932d-47a3-9d26-8bb1dbb98bc2",
   "metadata": {},
   "outputs": [
    {
     "name": "stdin",
     "output_type": "stream",
     "text": [
      "Enter the first number:  1\n",
      "Enter the second number:  2\n",
      "Enter the third number:  3\n"
     ]
    },
    {
     "name": "stdout",
     "output_type": "stream",
     "text": [
      "The answer is 9.0.\n"
     ]
    }
   ],
   "source": [
    "# 005 Ask the user to enter three numbers. Add together the first two numbers and then multiply this total by the third.\n",
    "# Display the answer as The answer is [answer].\n",
    "\n",
    "num1 = float(input(\"Enter the first number: \"))\n",
    "num2 = float(input(\"Enter the second number: \"))\n",
    "num3 = float(input(\"Enter the third number: \"))\n",
    "result = (num1 + num2) * num3\n",
    "print(f\"The answer is {result}.\")"
   ]
  },
  {
   "cell_type": "code",
   "execution_count": 7,
   "id": "4c30169e-8b3b-4b0e-ace0-4b0bff94bef4",
   "metadata": {},
   "outputs": [
    {
     "name": "stdin",
     "output_type": "stream",
     "text": [
      "How many slices of pizza did you start with?  8\n",
      "How many slices have you eaten?  4\n"
     ]
    },
    {
     "name": "stdout",
     "output_type": "stream",
     "text": [
      "You have 4 slices of pizza left.\n"
     ]
    }
   ],
   "source": [
    "# 006 Ask how many slices of pizza the user started with and ask how many slices they have eaten.\n",
    "# Work out how many slices they have left and display the answer in a user-friendly format.\n",
    "\n",
    "initial_slices = int(input(\"How many slices of pizza did you start with? \"))\n",
    "eaten_slices = int(input(\"How many slices have you eaten? \"))\n",
    "remaining_slices = initial_slices - eaten_slices\n",
    "print(f\"You have {remaining_slices} slices of pizza left.\")"
   ]
  },
  {
   "cell_type": "code",
   "execution_count": 9,
   "id": "b58ecc07-ff35-4ca0-a722-5439cf50b8ed",
   "metadata": {},
   "outputs": [
    {
     "name": "stdin",
     "output_type": "stream",
     "text": [
      "What is your name?  Amit\n",
      "What is your age?  19\n"
     ]
    },
    {
     "name": "stdout",
     "output_type": "stream",
     "text": [
      "Amit, next birthday you will be 20.\n"
     ]
    }
   ],
   "source": [
    "# 007 Ask the user for their name and their age. Add 1 to their age and display the output \n",
    "# [Name] next birthday you will be [new age].\n",
    "\n",
    "name = input(\"What is your name? \")\n",
    "age = int(input(\"What is your age? \"))\n",
    "next_age = age + 1\n",
    "print(f\"{name}, next birthday you will be {next_age}.\")\n"
   ]
  }
 ],
 "metadata": {
  "kernelspec": {
   "display_name": "Python 3 (ipykernel)",
   "language": "python",
   "name": "python3"
  },
  "language_info": {
   "codemirror_mode": {
    "name": "ipython",
    "version": 3
   },
   "file_extension": ".py",
   "mimetype": "text/x-python",
   "name": "python",
   "nbconvert_exporter": "python",
   "pygments_lexer": "ipython3",
   "version": "3.11.7"
  }
 },
 "nbformat": 4,
 "nbformat_minor": 5
}
